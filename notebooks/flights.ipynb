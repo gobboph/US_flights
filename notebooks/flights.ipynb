{
 "cells": [
  {
   "cell_type": "code",
   "execution_count": 1,
   "metadata": {
    "collapsed": false
   },
   "outputs": [
    {
     "name": "stderr",
     "output_type": "stream",
     "text": [
      ":0: FutureWarning: IPython widgets are experimental and may change in the future.\n"
     ]
    }
   ],
   "source": [
    "%matplotlib inline\n",
    "import pandas as pd\n",
    "import csv as csv\n",
    "import numpy as np\n",
    "from matplotlib import pyplot as plt\n",
    "import seaborn as sns\n",
    "#from sklearn import datasets, linear_model\n",
    "import matplotlib\n",
    "import matplotlib.pylab as pl\n",
    "from matplotlib import rcParams\n",
    "from mpl_toolkits.basemap import Basemap\n",
    "#import sqlite3"
   ]
  },
  {
   "cell_type": "code",
   "execution_count": 2,
   "metadata": {
    "collapsed": true
   },
   "outputs": [],
   "source": [
    "import glob"
   ]
  },
  {
   "cell_type": "code",
   "execution_count": 3,
   "metadata": {
    "collapsed": false
   },
   "outputs": [],
   "source": [
    "path = '../csv/2015/'\n",
    "all_files = glob.glob(path + '*')\n",
    "df_list = []\n",
    "\n",
    "ds = pd.DataFrame()\n",
    "\n",
    "for f in all_files:\n",
    "    df = pd.read_csv(f,index_col=None,header=0)\n",
    "    df_list.append(df)\n",
    "\n",
    "ds = pd.concat(df_list).reset_index()"
   ]
  },
  {
   "cell_type": "code",
   "execution_count": 4,
   "metadata": {
    "collapsed": false
   },
   "outputs": [
    {
     "data": {
      "text/plain": [
       "5819079"
      ]
     },
     "execution_count": 4,
     "metadata": {},
     "output_type": "execute_result"
    }
   ],
   "source": [
    "len(ds)"
   ]
  },
  {
   "cell_type": "code",
   "execution_count": 5,
   "metadata": {
    "collapsed": false
   },
   "outputs": [
    {
     "data": {
      "text/plain": [
       "Index([u'index', u'MONTH', u'DAY_OF_MONTH', u'DAY_OF_WEEK', u'UNIQUE_CARRIER',\n",
       "       u'ORIGIN', u'DEST', u'DEP_TIME', u'ARR_DEL15', u'Unnamed: 8'],\n",
       "      dtype='object')"
      ]
     },
     "execution_count": 5,
     "metadata": {},
     "output_type": "execute_result"
    }
   ],
   "source": [
    "ds.columns"
   ]
  },
  {
   "cell_type": "code",
   "execution_count": 6,
   "metadata": {
    "collapsed": false
   },
   "outputs": [],
   "source": [
    "ds = ds.drop(['index','Unnamed: 8'],axis=1)\n",
    "ds = ds.drop_duplicates()"
   ]
  },
  {
   "cell_type": "code",
   "execution_count": 7,
   "metadata": {
    "collapsed": true
   },
   "outputs": [],
   "source": [
    "lcase_col = [x.lower() for x in ds.columns]\n",
    "ds.columns = lcase_col"
   ]
  },
  {
   "cell_type": "code",
   "execution_count": 8,
   "metadata": {
    "collapsed": false
   },
   "outputs": [
    {
     "data": {
      "text/plain": [
       "Index([u'month', u'day_of_month', u'day_of_week', u'unique_carrier', u'origin',\n",
       "       u'dest', u'dep_time', u'arr_del15'],\n",
       "      dtype='object')"
      ]
     },
     "execution_count": 8,
     "metadata": {},
     "output_type": "execute_result"
    }
   ],
   "source": [
    "ds.columns"
   ]
  },
  {
   "cell_type": "code",
   "execution_count": 9,
   "metadata": {
    "collapsed": true
   },
   "outputs": [],
   "source": [
    "airports = pd.read_csv('../csv/airports.csv',header=0)\n",
    "carriers = pd.read_csv('../csv/carriers2.csv',header=0)"
   ]
  },
  {
   "cell_type": "code",
   "execution_count": 10,
   "metadata": {
    "collapsed": true
   },
   "outputs": [],
   "source": [
    "airports = airports[airports['country']=='USA']\n",
    "airports = airports.drop('country',axis=1)"
   ]
  },
  {
   "cell_type": "code",
   "execution_count": 11,
   "metadata": {
    "collapsed": false
   },
   "outputs": [
    {
     "data": {
      "text/html": [
       "<div>\n",
       "<table border=\"1\" class=\"dataframe\">\n",
       "  <thead>\n",
       "    <tr style=\"text-align: right;\">\n",
       "      <th></th>\n",
       "      <th>iata</th>\n",
       "      <th>airport</th>\n",
       "      <th>city</th>\n",
       "      <th>state</th>\n",
       "      <th>lat</th>\n",
       "      <th>long</th>\n",
       "    </tr>\n",
       "  </thead>\n",
       "  <tbody>\n",
       "    <tr>\n",
       "      <th>0</th>\n",
       "      <td>00M</td>\n",
       "      <td>Thigpen</td>\n",
       "      <td>Bay Springs</td>\n",
       "      <td>MS</td>\n",
       "      <td>31.953765</td>\n",
       "      <td>-89.234505</td>\n",
       "    </tr>\n",
       "    <tr>\n",
       "      <th>1</th>\n",
       "      <td>00R</td>\n",
       "      <td>Livingston Municipal</td>\n",
       "      <td>Livingston</td>\n",
       "      <td>TX</td>\n",
       "      <td>30.685861</td>\n",
       "      <td>-95.017928</td>\n",
       "    </tr>\n",
       "    <tr>\n",
       "      <th>2</th>\n",
       "      <td>00V</td>\n",
       "      <td>Meadow Lake</td>\n",
       "      <td>Colorado Springs</td>\n",
       "      <td>CO</td>\n",
       "      <td>38.945749</td>\n",
       "      <td>-104.569893</td>\n",
       "    </tr>\n",
       "    <tr>\n",
       "      <th>3</th>\n",
       "      <td>01G</td>\n",
       "      <td>Perry-Warsaw</td>\n",
       "      <td>Perry</td>\n",
       "      <td>NY</td>\n",
       "      <td>42.741347</td>\n",
       "      <td>-78.052081</td>\n",
       "    </tr>\n",
       "    <tr>\n",
       "      <th>4</th>\n",
       "      <td>01J</td>\n",
       "      <td>Hilliard Airpark</td>\n",
       "      <td>Hilliard</td>\n",
       "      <td>FL</td>\n",
       "      <td>30.688012</td>\n",
       "      <td>-81.905944</td>\n",
       "    </tr>\n",
       "  </tbody>\n",
       "</table>\n",
       "</div>"
      ],
      "text/plain": [
       "  iata               airport              city state        lat        long\n",
       "0  00M              Thigpen        Bay Springs    MS  31.953765  -89.234505\n",
       "1  00R  Livingston Municipal        Livingston    TX  30.685861  -95.017928\n",
       "2  00V           Meadow Lake  Colorado Springs    CO  38.945749 -104.569893\n",
       "3  01G          Perry-Warsaw             Perry    NY  42.741347  -78.052081\n",
       "4  01J      Hilliard Airpark          Hilliard    FL  30.688012  -81.905944"
      ]
     },
     "execution_count": 11,
     "metadata": {},
     "output_type": "execute_result"
    }
   ],
   "source": [
    "airports.head()"
   ]
  },
  {
   "cell_type": "code",
   "execution_count": 12,
   "metadata": {
    "collapsed": true
   },
   "outputs": [],
   "source": [
    "airports = airports.rename(columns={'iata':'origin'})\n",
    "\n",
    "ds = pd.merge(ds,airports,on=['origin'])\n",
    "ds = ds.drop(['city','state','airport'],axis=1)\n",
    "ds = ds.rename(columns={'lat':'orig_lat','long':'orig_lon'})\n",
    "\n",
    "airports = airports.rename(columns={'origin':'dest'})\n",
    "\n",
    "ds = pd.merge(ds,airports,on=['dest'])\n",
    "ds = ds.drop(['city','state','airport'],axis=1)\n",
    "ds = ds.rename(columns={'lat':'dest_lat','long':'dest_lon'})"
   ]
  },
  {
   "cell_type": "code",
   "execution_count": 13,
   "metadata": {
    "collapsed": false
   },
   "outputs": [
    {
     "data": {
      "text/html": [
       "<div>\n",
       "<table border=\"1\" class=\"dataframe\">\n",
       "  <thead>\n",
       "    <tr style=\"text-align: right;\">\n",
       "      <th></th>\n",
       "      <th>month</th>\n",
       "      <th>day_of_month</th>\n",
       "      <th>day_of_week</th>\n",
       "      <th>unique_carrier</th>\n",
       "      <th>origin</th>\n",
       "      <th>dest</th>\n",
       "      <th>dep_time</th>\n",
       "      <th>arr_del15</th>\n",
       "      <th>orig_lat</th>\n",
       "      <th>orig_lon</th>\n",
       "      <th>dest_lat</th>\n",
       "      <th>dest_lon</th>\n",
       "    </tr>\n",
       "  </thead>\n",
       "  <tbody>\n",
       "    <tr>\n",
       "      <th>0</th>\n",
       "      <td>4</td>\n",
       "      <td>1</td>\n",
       "      <td>3</td>\n",
       "      <td>AA</td>\n",
       "      <td>JFK</td>\n",
       "      <td>LAX</td>\n",
       "      <td>848</td>\n",
       "      <td>0</td>\n",
       "      <td>40.639751</td>\n",
       "      <td>-73.778926</td>\n",
       "      <td>33.942536</td>\n",
       "      <td>-118.408074</td>\n",
       "    </tr>\n",
       "    <tr>\n",
       "      <th>1</th>\n",
       "      <td>4</td>\n",
       "      <td>2</td>\n",
       "      <td>4</td>\n",
       "      <td>AA</td>\n",
       "      <td>JFK</td>\n",
       "      <td>LAX</td>\n",
       "      <td>853</td>\n",
       "      <td>0</td>\n",
       "      <td>40.639751</td>\n",
       "      <td>-73.778926</td>\n",
       "      <td>33.942536</td>\n",
       "      <td>-118.408074</td>\n",
       "    </tr>\n",
       "    <tr>\n",
       "      <th>2</th>\n",
       "      <td>4</td>\n",
       "      <td>3</td>\n",
       "      <td>5</td>\n",
       "      <td>AA</td>\n",
       "      <td>JFK</td>\n",
       "      <td>LAX</td>\n",
       "      <td>853</td>\n",
       "      <td>1</td>\n",
       "      <td>40.639751</td>\n",
       "      <td>-73.778926</td>\n",
       "      <td>33.942536</td>\n",
       "      <td>-118.408074</td>\n",
       "    </tr>\n",
       "    <tr>\n",
       "      <th>3</th>\n",
       "      <td>4</td>\n",
       "      <td>4</td>\n",
       "      <td>6</td>\n",
       "      <td>AA</td>\n",
       "      <td>JFK</td>\n",
       "      <td>LAX</td>\n",
       "      <td>855</td>\n",
       "      <td>1</td>\n",
       "      <td>40.639751</td>\n",
       "      <td>-73.778926</td>\n",
       "      <td>33.942536</td>\n",
       "      <td>-118.408074</td>\n",
       "    </tr>\n",
       "    <tr>\n",
       "      <th>4</th>\n",
       "      <td>4</td>\n",
       "      <td>5</td>\n",
       "      <td>7</td>\n",
       "      <td>AA</td>\n",
       "      <td>JFK</td>\n",
       "      <td>LAX</td>\n",
       "      <td>853</td>\n",
       "      <td>0</td>\n",
       "      <td>40.639751</td>\n",
       "      <td>-73.778926</td>\n",
       "      <td>33.942536</td>\n",
       "      <td>-118.408074</td>\n",
       "    </tr>\n",
       "  </tbody>\n",
       "</table>\n",
       "</div>"
      ],
      "text/plain": [
       "   month  day_of_month  day_of_week unique_carrier origin dest  dep_time  \\\n",
       "0      4             1            3             AA    JFK  LAX       848   \n",
       "1      4             2            4             AA    JFK  LAX       853   \n",
       "2      4             3            5             AA    JFK  LAX       853   \n",
       "3      4             4            6             AA    JFK  LAX       855   \n",
       "4      4             5            7             AA    JFK  LAX       853   \n",
       "\n",
       "   arr_del15   orig_lat   orig_lon   dest_lat    dest_lon  \n",
       "0          0  40.639751 -73.778926  33.942536 -118.408074  \n",
       "1          0  40.639751 -73.778926  33.942536 -118.408074  \n",
       "2          1  40.639751 -73.778926  33.942536 -118.408074  \n",
       "3          1  40.639751 -73.778926  33.942536 -118.408074  \n",
       "4          0  40.639751 -73.778926  33.942536 -118.408074  "
      ]
     },
     "execution_count": 13,
     "metadata": {},
     "output_type": "execute_result"
    }
   ],
   "source": [
    "ds.head()"
   ]
  },
  {
   "cell_type": "code",
   "execution_count": 14,
   "metadata": {
    "collapsed": false
   },
   "outputs": [],
   "source": [
    "airline_del = ds.groupby('unique_carrier').agg({\n",
    "        'arr_del15':'sum',\n",
    "        'dep_time':'count'\n",
    "    }).rename(columns={'dep_time':'N_flights'})"
   ]
  },
  {
   "cell_type": "code",
   "execution_count": 15,
   "metadata": {
    "collapsed": false
   },
   "outputs": [],
   "source": [
    "airline_del['frac_del'] = airline_del['arr_del15'].apply(lambda x:float(x)) / \\\n",
    "    airline_del['N_flights'].apply(lambda y:float(y))"
   ]
  },
  {
   "cell_type": "code",
   "execution_count": 16,
   "metadata": {
    "collapsed": false
   },
   "outputs": [],
   "source": [
    "airline_del.reset_index(inplace=True)"
   ]
  },
  {
   "cell_type": "code",
   "execution_count": 17,
   "metadata": {
    "collapsed": false
   },
   "outputs": [],
   "source": [
    "carriers.columns = ['unique_carrier','name_carrier']"
   ]
  },
  {
   "cell_type": "code",
   "execution_count": 18,
   "metadata": {
    "collapsed": true
   },
   "outputs": [],
   "source": [
    "airline_del = pd.merge(airline_del,carriers,on='unique_carrier')"
   ]
  },
  {
   "cell_type": "code",
   "execution_count": 19,
   "metadata": {
    "collapsed": false
   },
   "outputs": [
    {
     "data": {
      "text/html": [
       "<div>\n",
       "<table border=\"1\" class=\"dataframe\">\n",
       "  <thead>\n",
       "    <tr style=\"text-align: right;\">\n",
       "      <th></th>\n",
       "      <th>unique_carrier</th>\n",
       "      <th>N_flights</th>\n",
       "      <th>arr_del15</th>\n",
       "      <th>frac_del</th>\n",
       "      <th>name_carrier</th>\n",
       "    </tr>\n",
       "  </thead>\n",
       "  <tbody>\n",
       "    <tr>\n",
       "      <th>0</th>\n",
       "      <td>AA</td>\n",
       "      <td>715531</td>\n",
       "      <td>130229</td>\n",
       "      <td>0.182003</td>\n",
       "      <td>American Airlines</td>\n",
       "    </tr>\n",
       "    <tr>\n",
       "      <th>1</th>\n",
       "      <td>AS</td>\n",
       "      <td>171906</td>\n",
       "      <td>22348</td>\n",
       "      <td>0.130001</td>\n",
       "      <td>Alaska Airlines</td>\n",
       "    </tr>\n",
       "    <tr>\n",
       "      <th>2</th>\n",
       "      <td>B6</td>\n",
       "      <td>262832</td>\n",
       "      <td>59165</td>\n",
       "      <td>0.225106</td>\n",
       "      <td>JetBlue</td>\n",
       "    </tr>\n",
       "    <tr>\n",
       "      <th>3</th>\n",
       "      <td>DL</td>\n",
       "      <td>867986</td>\n",
       "      <td>117477</td>\n",
       "      <td>0.135344</td>\n",
       "      <td>Delta</td>\n",
       "    </tr>\n",
       "    <tr>\n",
       "      <th>4</th>\n",
       "      <td>EV</td>\n",
       "      <td>555809</td>\n",
       "      <td>108954</td>\n",
       "      <td>0.196028</td>\n",
       "      <td>Atlantic Southeast</td>\n",
       "    </tr>\n",
       "    <tr>\n",
       "      <th>5</th>\n",
       "      <td>F9</td>\n",
       "      <td>89969</td>\n",
       "      <td>23490</td>\n",
       "      <td>0.261090</td>\n",
       "      <td>Frontier</td>\n",
       "    </tr>\n",
       "    <tr>\n",
       "      <th>6</th>\n",
       "      <td>HA</td>\n",
       "      <td>76085</td>\n",
       "      <td>8609</td>\n",
       "      <td>0.113150</td>\n",
       "      <td>Hawaiian</td>\n",
       "    </tr>\n",
       "    <tr>\n",
       "      <th>7</th>\n",
       "      <td>MQ</td>\n",
       "      <td>280271</td>\n",
       "      <td>60536</td>\n",
       "      <td>0.215991</td>\n",
       "      <td>American Eagle</td>\n",
       "    </tr>\n",
       "    <tr>\n",
       "      <th>8</th>\n",
       "      <td>NK</td>\n",
       "      <td>114868</td>\n",
       "      <td>34032</td>\n",
       "      <td>0.296271</td>\n",
       "      <td>Spirit</td>\n",
       "    </tr>\n",
       "    <tr>\n",
       "      <th>9</th>\n",
       "      <td>OO</td>\n",
       "      <td>578945</td>\n",
       "      <td>107765</td>\n",
       "      <td>0.186140</td>\n",
       "      <td>Skywest</td>\n",
       "    </tr>\n",
       "    <tr>\n",
       "      <th>10</th>\n",
       "      <td>UA</td>\n",
       "      <td>509469</td>\n",
       "      <td>104676</td>\n",
       "      <td>0.205461</td>\n",
       "      <td>United</td>\n",
       "    </tr>\n",
       "    <tr>\n",
       "      <th>11</th>\n",
       "      <td>US</td>\n",
       "      <td>194816</td>\n",
       "      <td>36541</td>\n",
       "      <td>0.187567</td>\n",
       "      <td>US Airways</td>\n",
       "    </tr>\n",
       "    <tr>\n",
       "      <th>12</th>\n",
       "      <td>VX</td>\n",
       "      <td>61381</td>\n",
       "      <td>11774</td>\n",
       "      <td>0.191818</td>\n",
       "      <td>Virgin America</td>\n",
       "    </tr>\n",
       "    <tr>\n",
       "      <th>13</th>\n",
       "      <td>WN</td>\n",
       "      <td>1242623</td>\n",
       "      <td>236059</td>\n",
       "      <td>0.189968</td>\n",
       "      <td>Southwest</td>\n",
       "    </tr>\n",
       "  </tbody>\n",
       "</table>\n",
       "</div>"
      ],
      "text/plain": [
       "   unique_carrier  N_flights  arr_del15  frac_del        name_carrier\n",
       "0              AA     715531     130229  0.182003   American Airlines\n",
       "1              AS     171906      22348  0.130001     Alaska Airlines\n",
       "2              B6     262832      59165  0.225106             JetBlue\n",
       "3              DL     867986     117477  0.135344               Delta\n",
       "4              EV     555809     108954  0.196028  Atlantic Southeast\n",
       "5              F9      89969      23490  0.261090            Frontier\n",
       "6              HA      76085       8609  0.113150            Hawaiian\n",
       "7              MQ     280271      60536  0.215991      American Eagle\n",
       "8              NK     114868      34032  0.296271              Spirit\n",
       "9              OO     578945     107765  0.186140             Skywest\n",
       "10             UA     509469     104676  0.205461              United\n",
       "11             US     194816      36541  0.187567          US Airways\n",
       "12             VX      61381      11774  0.191818      Virgin America\n",
       "13             WN    1242623     236059  0.189968           Southwest"
      ]
     },
     "execution_count": 19,
     "metadata": {},
     "output_type": "execute_result"
    }
   ],
   "source": [
    "airline_del"
   ]
  },
  {
   "cell_type": "code",
   "execution_count": 24,
   "metadata": {
    "collapsed": false
   },
   "outputs": [
    {
     "data": {
      "text/plain": [
       "<matplotlib.text.Text at 0x1113851d0>"
      ]
     },
     "execution_count": 24,
     "metadata": {},
     "output_type": "execute_result"
    },
    {
     "data": {
      "image/png": "[encoded data removed]",
      "text/plain": [
       "<matplotlib.figure.Figure at 0x10fb4ac10>"
      ]
     },
     "metadata": {},
     "output_type": "display_data"
    }
   ],
   "source": [
    "ad_temp = airline_del.sort_values('frac_del',ascending=False)\n",
    "rcParams['figure.figsize'] = (12,7)\n",
    "ax = ad_temp.plot.bar(y='frac_del',color = 'royalblue',\n",
    "                       fontsize = 12, legend=False, rot=90)\n",
    "\n",
    "ax.set_xticklabels(ad_temp['name_carrier'])\n",
    "#ax.set_xlabel('Airline', fontsize = 16)\n",
    "#ax.set_ylabel('Delayed', fontsize = 16)\n",
    "ax.set_title('Fraction of delayed flights (2015)',fontsize=16)"
   ]
  },
  {
   "cell_type": "code",
   "execution_count": 25,
   "metadata": {
    "collapsed": true
   },
   "outputs": [],
   "source": [
    "month_del = ds.groupby('month').agg({\n",
    "        'arr_del15':'sum',\n",
    "        'dep_time':'count'\n",
    "    }).rename(columns={'dep_time':'N_flights'})"
   ]
  },
  {
   "cell_type": "code",
   "execution_count": 26,
   "metadata": {
    "collapsed": true
   },
   "outputs": [],
   "source": [
    "month_del['frac_del'] = month_del['arr_del15'].apply(lambda x:float(x)) / \\\n",
    "    month_del['N_flights'].apply(lambda y:float(y))"
   ]
  },
  {
   "cell_type": "code",
   "execution_count": 28,
   "metadata": {
    "collapsed": true
   },
   "outputs": [],
   "source": [
    "month_del.sort_values('month',inplace=True)"
   ]
  },
  {
   "cell_type": "code",
   "execution_count": 29,
   "metadata": {
    "collapsed": true
   },
   "outputs": [],
   "source": [
    "month_del.reset_index(inplace=True)"
   ]
  },
  {
   "cell_type": "code",
   "execution_count": 37,
   "metadata": {
    "collapsed": false
   },
   "outputs": [
    {
     "data": {
      "text/plain": [
       "<matplotlib.text.Text at 0x118aacf50>"
      ]
     },
     "execution_count": 37,
     "metadata": {},
     "output_type": "execute_result"
    },
    {
     "data": {
      "image/png": "[encoded data removed]",
      "text/plain": [
       "<matplotlib.figure.Figure at 0x1185f4910>"
      ]
     },
     "metadata": {},
     "output_type": "display_data"
    }
   ],
   "source": [
    "rcParams['figure.figsize'] = (12,7)\n",
    "ax = month_del.plot.bar(y='frac_del',color = 'royalblue',\n",
    "                       fontsize = 12, legend=False,rot=45)\n",
    "\n",
    "ax.set_xticklabels(['Jan','Feb','Mar','Apr','May','Jun','Jul','Aug','Sep','Oct','Nov','Dec'])\n",
    "#ax.set_xlabel('Airline', fontsize = 16)\n",
    "#ax.set_ylabel('Delayed', fontsize = 16)\n",
    "ax.set_title('Fraction of delayed flights per month (2015)',fontsize=16)"
   ]
  },
  {
   "cell_type": "code",
   "execution_count": 38,
   "metadata": {
    "collapsed": true
   },
   "outputs": [],
   "source": [
    "weekday_del = ds.groupby('day_of_week').agg({\n",
    "        'arr_del15':'sum',\n",
    "        'dep_time':'count'\n",
    "    }).rename(columns={'dep_time':'N_flights'})"
   ]
  },
  {
   "cell_type": "code",
   "execution_count": 39,
   "metadata": {
    "collapsed": true
   },
   "outputs": [],
   "source": [
    "weekday_del['frac_del'] = weekday_del['arr_del15'].apply(lambda x:float(x)) / \\\n",
    "    weekday_del['N_flights'].apply(lambda y:float(y))"
   ]
  },
  {
   "cell_type": "code",
   "execution_count": 41,
   "metadata": {
    "collapsed": false
   },
   "outputs": [],
   "source": [
    "weekday_del.reset_index(inplace=True)\n",
    "weekday_del.sort_values('day_of_week',inplace=True)\n",
    "weekday_del.reset_index(inplace=True)"
   ]
  },
  {
   "cell_type": "code",
   "execution_count": 46,
   "metadata": {
    "collapsed": false
   },
   "outputs": [
    {
     "data": {
      "text/plain": [
       "<matplotlib.text.Text at 0x141a11d90>"
      ]
     },
     "execution_count": 46,
     "metadata": {},
     "output_type": "execute_result"
    },
    {
     "data": {
      "image/png": "[encoded data removed]",
      "text/plain": [
       "<matplotlib.figure.Figure at 0x141686250>"
      ]
     },
     "metadata": {},
     "output_type": "display_data"
    }
   ],
   "source": [
    "rcParams['figure.figsize'] = (12,7)\n",
    "ax = weekday_del.plot.bar(y='frac_del',color = 'royalblue',\n",
    "                       fontsize = 12, legend=False,rot=45,ylim=[0.0,0.22])\n",
    "\n",
    "ax.set_xticklabels(['Mon','Tue','Wed','Thu','Fri','Sat','Sun'])\n",
    "#ax.set_xlabel('Airline', fontsize = 16)\n",
    "#ax.set_ylabel('Delayed', fontsize = 16)\n",
    "ax.set_title('Fraction of delayed flights per day of the week (2015)',fontsize=16)"
   ]
  },
  {
   "cell_type": "code",
   "execution_count": 53,
   "metadata": {
    "collapsed": true
   },
   "outputs": [],
   "source": [
    "monthday_del = ds.groupby('day_of_month').agg({\n",
    "        'arr_del15':'sum',\n",
    "        'dep_time':'count'\n",
    "    }).rename(columns={'dep_time':'N_flights'})"
   ]
  },
  {
   "cell_type": "code",
   "execution_count": 54,
   "metadata": {
    "collapsed": true
   },
   "outputs": [],
   "source": [
    "monthday_del['frac_del'] = monthday_del['arr_del15'].apply(lambda x:float(x)) / \\\n",
    "    monthday_del['N_flights'].apply(lambda y:float(y))"
   ]
  },
  {
   "cell_type": "code",
   "execution_count": 56,
   "metadata": {
    "collapsed": false
   },
   "outputs": [],
   "source": [
    "monthday_del.reset_index(inplace=True)\n",
    "monthday_del.sort_values('day_of_month',inplace=True)\n",
    "monthday_del.reset_index(inplace=True)"
   ]
  },
  {
   "cell_type": "code",
   "execution_count": 66,
   "metadata": {
    "collapsed": false
   },
   "outputs": [
    {
     "data": {
      "text/plain": [
       "<matplotlib.text.Text at 0x145678790>"
      ]
     },
     "execution_count": 66,
     "metadata": {},
     "output_type": "execute_result"
    },
    {
     "data": {
      "image/png": "[encoded data removed]",
      "text/plain": [
       "<matplotlib.figure.Figure at 0x1453d3150>"
      ]
     },
     "metadata": {},
     "output_type": "display_data"
    }
   ],
   "source": [
    "rcParams['figure.figsize'] = (12,7)\n",
    "ax = monthday_del.plot.bar(y='frac_del',color = 'royalblue',\n",
    "                       fontsize = 12, legend=False,rot=45)#,ylim=[0.0,0.22])\n",
    "\n",
    "ax.set_xticklabels(monthday_del['day_of_month'])\n",
    "#ax.set_xlabel('Airline', fontsize = 16)\n",
    "#ax.set_ylabel('Delayed', fontsize = 16)\n",
    "ax.set_title('Fraction of delayed flights per day of the month (2015)',fontsize=16)"
   ]
  },
  {
   "cell_type": "code",
   "execution_count": null,
   "metadata": {
    "collapsed": true
   },
   "outputs": [],
   "source": []
  }
 ],
 "metadata": {
  "kernelspec": {
   "display_name": "Python 2",
   "language": "python",
   "name": "python2"
  },
  "language_info": {
   "codemirror_mode": {
    "name": "ipython",
    "version": 2
   },
   "file_extension": ".py",
   "mimetype": "text/x-python",
   "name": "python",
   "nbconvert_exporter": "python",
   "pygments_lexer": "ipython2",
   "version": "2.7.11"
  }
 },
 "nbformat": 4,
 "nbformat_minor": 0
}
